{
 "cells": [
  {
   "cell_type": "markdown",
   "id": "9b40e24c-2545-44a6-a6a8-e405b1bfdae7",
   "metadata": {},
   "source": [
    "# 1."
   ]
  },
  {
   "cell_type": "code",
   "execution_count": 3,
   "id": "e3e110df-acdd-4561-abc9-62023330eb8f",
   "metadata": {},
   "outputs": [
    {
     "name": "stdin",
     "output_type": "stream",
     "text": [
      " 50\n"
     ]
    },
    {
     "name": "stdout",
     "output_type": "stream",
     "text": [
      "D\n"
     ]
    }
   ],
   "source": [
    "marks=int(input())\n",
    "if marks<60:\n",
    "    grade='D'\n",
    "elif 80>=marks>=60:\n",
    "    grade='C'\n",
    "elif 90>=marks>80:\n",
    "    grade='B'\n",
    "else:\n",
    "    grade='A'\n",
    "print(grade)"
   ]
  },
  {
   "cell_type": "markdown",
   "id": "c636f500-7b43-43b9-97da-698f72abdb21",
   "metadata": {},
   "source": [
    "# 2."
   ]
  },
  {
   "cell_type": "code",
   "execution_count": 9,
   "id": "a551d436-cf42-47de-9774-bc83c281b2a7",
   "metadata": {},
   "outputs": [
    {
     "name": "stdin",
     "output_type": "stream",
     "text": [
      " 123457\n"
     ]
    },
    {
     "name": "stdout",
     "output_type": "stream",
     "text": [
      "18518\n"
     ]
    }
   ],
   "source": [
    "cp=int(input())\n",
    "if cp>100000:\n",
    "    rt=0.15*cp\n",
    "elif 50000<cp<=100000:\n",
    "    rt=0.1*cp\n",
    "else:\n",
    "    rt=0.05*cp\n",
    "print(int(rt))"
   ]
  },
  {
   "cell_type": "markdown",
   "id": "32a6b695-6ae0-482a-8f5a-e9d15d2c449c",
   "metadata": {},
   "source": [
    "# 3.\n"
   ]
  },
  {
   "cell_type": "code",
   "execution_count": 12,
   "id": "f7844ca0-eb15-4b8d-a3b1-641a92f73afd",
   "metadata": {},
   "outputs": [
    {
     "name": "stdin",
     "output_type": "stream",
     "text": [
      " Delhi\n"
     ]
    },
    {
     "name": "stdout",
     "output_type": "stream",
     "text": [
      "Red Fort\n"
     ]
    }
   ],
   "source": [
    "city=input()\n",
    "if city=='Delhi':\n",
    "    print(\"Red Fort\")\n",
    "elif city=='Agra':\n",
    "    print(\"Taj Mahal\")\n",
    "elif city==\"Jaipur\":\n",
    "    print(\"Jal Mahal\")"
   ]
  },
  {
   "cell_type": "markdown",
   "id": "610f1d7a-c945-484e-9238-606010365e68",
   "metadata": {},
   "source": [
    "# 4."
   ]
  },
  {
   "cell_type": "code",
   "execution_count": 16,
   "id": "140559c7-0ef7-4639-8c75-13c0cd8aef50",
   "metadata": {},
   "outputs": [
    {
     "name": "stdin",
     "output_type": "stream",
     "text": [
      " 550\n"
     ]
    },
    {
     "name": "stdout",
     "output_type": "stream",
     "text": [
      "4\n"
     ]
    }
   ],
   "source": [
    "x=int(input())\n",
    "i=0\n",
    "if(x<=10):\n",
    "    print(0)\n",
    "else:\n",
    "    while(x>=10):\n",
    "        x=x/3\n",
    "        i=i+1\n",
    "print(i)"
   ]
  },
  {
   "cell_type": "code",
   "execution_count": null,
   "id": "fe45c906-78a2-4e15-9ce7-376054c72ab7",
   "metadata": {},
   "outputs": [],
   "source": []
  }
 ],
 "metadata": {
  "kernelspec": {
   "display_name": "Python 3 (ipykernel)",
   "language": "python",
   "name": "python3"
  },
  "language_info": {
   "codemirror_mode": {
    "name": "ipython",
    "version": 3
   },
   "file_extension": ".py",
   "mimetype": "text/x-python",
   "name": "python",
   "nbconvert_exporter": "python",
   "pygments_lexer": "ipython3",
   "version": "3.10.8"
  }
 },
 "nbformat": 4,
 "nbformat_minor": 5
}
